{
 "cells": [
  {
   "cell_type": "code",
   "execution_count": 1,
   "metadata": {
    "collapsed": true
   },
   "outputs": [],
   "source": [
    "import pyomo.environ as pyo\n",
    "\n",
    "# Declare a optimization problem\n",
    "model = pyo.ConcreteModel()\n",
    "\n",
    "# Define a decision variable\n",
    "model.x = pyo.Var(domain=pyo.NonNegativeReals)"
   ]
  },
  {
   "cell_type": "code",
   "execution_count": 2,
   "outputs": [],
   "source": [
    "# Set the objective function\n",
    "model.profit = pyo.Objective(expr=40 * model.x, sense=pyo.maximize)"
   ],
   "metadata": {
    "collapsed": false
   }
  },
  {
   "cell_type": "code",
   "execution_count": 3,
   "outputs": [],
   "source": [
    "# Set the constraints\n",
    "model.demand = pyo.Constraint(expr=model.x <= 40)\n",
    "model.laborA = pyo.Constraint(expr=model.x <= 80)\n",
    "model.laborB = pyo.Constraint(expr=2 * model.x <= 100)"
   ],
   "metadata": {
    "collapsed": false
   }
  },
  {
   "cell_type": "code",
   "execution_count": 4,
   "outputs": [],
   "source": [
    "# Define a solver and solve the optimization problem\n",
    "solver =pyo.SolverFactory('cbc')\n",
    "result = solver.solve(model)"
   ],
   "metadata": {
    "collapsed": false
   }
  },
  {
   "cell_type": "code",
   "execution_count": 5,
   "outputs": [
    {
     "name": "stdout",
     "output_type": "stream",
     "text": [
      "profit : Size=1, Index=None, Active=True\n",
      "    Key  : Active : Value\n",
      "    None :   True : 1600.0\n"
     ]
    }
   ],
   "source": [
    "model.profit.display()\n",
    "\n",
    "# profit : Size=1, Index=None, Active=True\n",
    "#     Key  : Active : Value\n",
    "#     None :   True : 1600.0"
   ],
   "metadata": {
    "collapsed": false
   }
  },
  {
   "cell_type": "code",
   "execution_count": 6,
   "outputs": [
    {
     "name": "stdout",
     "output_type": "stream",
     "text": [
      "x : Size=1, Index=None\n",
      "    Key  : Lower : Value : Upper : Fixed : Stale : Domain\n",
      "    None :     0 :  40.0 :  None : False : False : NonNegativeReals\n"
     ]
    }
   ],
   "source": [
    "model.x.display()\n",
    "\n",
    "# x : Size=1, Index=None\n",
    "#     Key  : Lower : Value : Upper : Fixed : Stale : Domain\n",
    "#     None :     0 :  40.0 :  None : False : False : NonNegativeReals"
   ],
   "metadata": {
    "collapsed": false
   }
  },
  {
   "cell_type": "code",
   "execution_count": null,
   "outputs": [],
   "source": [],
   "metadata": {
    "collapsed": false
   }
  }
 ],
 "metadata": {
  "kernelspec": {
   "display_name": "Python 3",
   "language": "python",
   "name": "python3"
  },
  "language_info": {
   "codemirror_mode": {
    "name": "ipython",
    "version": 2
   },
   "file_extension": ".py",
   "mimetype": "text/x-python",
   "name": "python",
   "nbconvert_exporter": "python",
   "pygments_lexer": "ipython2",
   "version": "2.7.6"
  }
 },
 "nbformat": 4,
 "nbformat_minor": 0
}
