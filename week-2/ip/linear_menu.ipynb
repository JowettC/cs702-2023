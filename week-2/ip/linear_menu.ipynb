{
 "cells": [
  {
   "cell_type": "code",
   "execution_count": 2,
   "metadata": {
    "collapsed": true
   },
   "outputs": [],
   "source": [
    "import pyomo.environ as pyo\n",
    "from itertools import product\n",
    "\n",
    "commands = ['c0', 'c1', 'c2', 'c3']\n",
    "frequencies = {\n",
    "    'c0': 10,\n",
    "    'c1': 5,\n",
    "    'c2': 3,\n",
    "    'c3': 2\n",
    "}\n",
    "\n",
    "slots = [0, 1, 2, 3]\n",
    "\n",
    "cs = list(product(commands, slots))\n",
    "\n",
    "# Cost is higher if a more frequently used command is placed in a lower slot\n",
    "costs = {(command, slot): frequencies[command] * slot for command, slot in cs}"
   ]
  },
  {
   "cell_type": "code",
   "execution_count": 3,
   "outputs": [],
   "source": [
    "model = pyo.ConcreteModel()\n",
    "model.x = pyo.Var(commands, slots, bounds=(0, 1))\n",
    "\n",
    "# Each slot must be filled by exactly one command\n",
    "def one_slot_rule(mdl, s):\n",
    "    return sum(mdl.x[c, s] for c in commands) == 1\n",
    "model.one_slot = pyo.Constraint(slots, rule=one_slot_rule)\n",
    "\n",
    "# Each command must be assigned to exactly one slot\n",
    "def one_command_rule(mdl, c):\n",
    "    return sum(mdl.x[c, s] for s in slots) == 1\n",
    "model.one_command = pyo.Constraint(commands, rule=one_command_rule)\n",
    "\n",
    "# Objective function\n",
    "def objective_func(mdl):\n",
    "\n",
    "    return sum(costs[c, s] * mdl.x[c, s] for c, s in cs)\n",
    "model.objective = pyo.Objective(rule=objective_func, sense=pyo.minimize)"
   ],
   "metadata": {
    "collapsed": false
   }
  },
  {
   "cell_type": "code",
   "execution_count": 4,
   "outputs": [
    {
     "name": "stdout",
     "output_type": "stream",
     "text": [
      "x : Size=16, Index=x_index\n",
      "    Key       : Lower : Value : Upper : Fixed : Stale : Domain\n",
      "    ('c0', 0) :     0 :   1.0 :     1 : False : False :  Reals\n",
      "    ('c0', 1) :     0 :   0.0 :     1 : False : False :  Reals\n",
      "    ('c0', 2) :     0 :   0.0 :     1 : False : False :  Reals\n",
      "    ('c0', 3) :     0 :   0.0 :     1 : False : False :  Reals\n",
      "    ('c1', 0) :     0 :   0.0 :     1 : False : False :  Reals\n",
      "    ('c1', 1) :     0 :   1.0 :     1 : False : False :  Reals\n",
      "    ('c1', 2) :     0 :   0.0 :     1 : False : False :  Reals\n",
      "    ('c1', 3) :     0 :   0.0 :     1 : False : False :  Reals\n",
      "    ('c2', 0) :     0 :   0.0 :     1 : False : False :  Reals\n",
      "    ('c2', 1) :     0 :   0.0 :     1 : False : False :  Reals\n",
      "    ('c2', 2) :     0 :   1.0 :     1 : False : False :  Reals\n",
      "    ('c2', 3) :     0 :   0.0 :     1 : False : False :  Reals\n",
      "    ('c3', 0) :     0 :   0.0 :     1 : False : False :  Reals\n",
      "    ('c3', 1) :     0 :   0.0 :     1 : False : False :  Reals\n",
      "    ('c3', 2) :     0 :   0.0 :     1 : False : False :  Reals\n",
      "    ('c3', 3) :     0 :   1.0 :     1 : False : False :  Reals\n"
     ]
    }
   ],
   "source": [
    "solver = pyo.SolverFactory(\"cbc\")  # \"cbc\", \"glpk\"\n",
    "res = solver.solve(model)\n",
    "\n",
    "pyo.assert_optimal_termination(res)\n",
    "\n",
    "model.x.display()"
   ],
   "metadata": {
    "collapsed": false
   }
  },
  {
   "cell_type": "code",
   "execution_count": null,
   "outputs": [],
   "source": [],
   "metadata": {
    "collapsed": false
   }
  }
 ],
 "metadata": {
  "kernelspec": {
   "display_name": "Python 3",
   "language": "python",
   "name": "python3"
  },
  "language_info": {
   "codemirror_mode": {
    "name": "ipython",
    "version": 2
   },
   "file_extension": ".py",
   "mimetype": "text/x-python",
   "name": "python",
   "nbconvert_exporter": "python",
   "pygments_lexer": "ipython2",
   "version": "2.7.6"
  }
 },
 "nbformat": 4,
 "nbformat_minor": 0
}
