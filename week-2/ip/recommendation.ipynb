{
 "cells": [
  {
   "cell_type": "code",
   "execution_count": 1,
   "metadata": {
    "collapsed": true
   },
   "outputs": [],
   "source": [
    "import pyomo.environ as pyo\n",
    "\n",
    "from itertools import product\n",
    "\n",
    "users = ['u0', 'u1']\n",
    "products = ['p0', 'p1', 'p2']\n",
    "\n",
    "ups = list(product(users, products))\n",
    "\n",
    "costs = {(u, p): 4  if p == 'p0' else 6 for u, p in ups}\n",
    "profits = {(u, p): 6 if u == 'u0' else 4 for u, p in ups}\n",
    "\n",
    "budget = 20\n",
    "max_assignment = 2\n",
    "qs = {p: 1 for p in products}"
   ]
  },
  {
   "cell_type": "code",
   "execution_count": 2,
   "outputs": [],
   "source": [
    "model = pyo.ConcreteModel('recommendation')\n",
    "model.x = pyo.Var(users, products, domain=pyo.Binary)\n",
    "\n",
    "# budget constraint\n",
    "def budget_rule(mdl):\n",
    "    return sum(costs[u, p] * mdl.x[u, p] for u, p in ups) <= budget\n",
    "model.budget = pyo.Constraint(rule=budget_rule)\n",
    "\n",
    "# assignment_rule:\n",
    "def assignment_rule(mdl, u):\n",
    "    return sum(mdl.x[u, p] for p in products) <= max_assignment\n",
    "model.assignment = pyo.Constraint(users, rule=assignment_rule)\n",
    "\n",
    "# balance rule. We want at least qs[p] person to view the product p.\n",
    "def balance_rule(mdl, p):\n",
    "    return sum(profits[u, p] * mdl.x[u, p] for u in users) >= qs[p]\n",
    "model.balance = pyo.Constraint(products, rule=balance_rule)\n",
    "\n",
    "# Objective function\n",
    "def objective_func(mdl):\n",
    "    return sum(profits[u, p] * mdl.x[u, p] for u, p in ups)\n",
    "model.objective = pyo.Objective(rule=objective_func, sense=pyo.maximize)"
   ],
   "metadata": {
    "collapsed": false
   }
  },
  {
   "cell_type": "code",
   "execution_count": 3,
   "outputs": [
    {
     "name": "stdout",
     "output_type": "stream",
     "text": [
      "x : Size=6, Index=x_index\n",
      "    Key          : Lower : Value : Upper : Fixed : Stale : Domain\n",
      "    ('u0', 'p0') :     0 :   1.0 :     1 : False : False : Binary\n",
      "    ('u0', 'p1') :     0 :   1.0 :     1 : False : False : Binary\n",
      "    ('u0', 'p2') :     0 :   0.0 :     1 : False : False : Binary\n",
      "    ('u1', 'p0') :     0 :   1.0 :     1 : False : False : Binary\n",
      "    ('u1', 'p1') :     0 :   0.0 :     1 : False : False : Binary\n",
      "    ('u1', 'p2') :     0 :   1.0 :     1 : False : False : Binary\n"
     ]
    }
   ],
   "source": [
    "solver = pyo.SolverFactory(\"cbc\")  # \"cbc\", \"glpk\"\n",
    "res = solver.solve(model)\n",
    "\n",
    "pyo.assert_optimal_termination(res)\n",
    "\n",
    "model.x.display()\n",
    "\n",
    "# x : Size=6, Index=x_index\n",
    "#     Key          : Lower : Value : Upper : Fixed : Stale : Domain\n",
    "#     ('u0', 'p0') :     0 :   1.0 :     1 : False : False : Binary\n",
    "#     ('u0', 'p1') :     0 :   1.0 :     1 : False : False : Binary\n",
    "#     ('u0', 'p2') :     0 :   0.0 :     1 : False : False : Binary\n",
    "#     ('u1', 'p0') :     0 :   1.0 :     1 : False : False : Binary\n",
    "#     ('u1', 'p1') :     0 :   0.0 :     1 : False : False : Binary\n",
    "#     ('u1', 'p2') :     0 :   1.0 :     1 : False : False : Binary"
   ],
   "metadata": {
    "collapsed": false
   }
  },
  {
   "cell_type": "code",
   "execution_count": null,
   "outputs": [],
   "source": [],
   "metadata": {
    "collapsed": false
   }
  }
 ],
 "metadata": {
  "kernelspec": {
   "display_name": "Python 3",
   "language": "python",
   "name": "python3"
  },
  "language_info": {
   "codemirror_mode": {
    "name": "ipython",
    "version": 2
   },
   "file_extension": ".py",
   "mimetype": "text/x-python",
   "name": "python",
   "nbconvert_exporter": "python",
   "pygments_lexer": "ipython2",
   "version": "2.7.6"
  }
 },
 "nbformat": 4,
 "nbformat_minor": 0
}
